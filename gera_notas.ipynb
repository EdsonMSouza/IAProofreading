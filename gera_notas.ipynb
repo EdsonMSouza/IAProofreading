{
 "cells": [
  {
   "cell_type": "code",
   "execution_count": 1,
   "id": "ea657a36",
   "metadata": {},
   "outputs": [
    {
     "name": "stdout",
     "output_type": "stream",
     "text": [
      "    Endereço de e-mail                 Nome  Nota\n",
      "0  souzaem@uni9.pro.br  Edson Melo de Souza    89\n"
     ]
    }
   ],
   "source": [
    "import pandas as pd\n",
    "\n",
    "# Caminho do arquivo com as avaliações\n",
    "arquivo = \"respostas_simuladas.xlsx_avaliado.xlsx\"  # substitua pelo nome correto, se necessário\n",
    " \n",
    "# Carregar a planilha\n",
    "df = pd.read_excel(arquivo)\n",
    "\n",
    "# Agrupar por e-mail e nome, calculando a média da nota\n",
    "df_agrupado = df.groupby([\"Endereço de e-mail\", \"Nome\"], as_index=False)[\"Nota\"].sum()\n",
    "\n",
    "# Exibir a saída\n",
    "print(df_agrupado)\n"
   ]
  },
  {
   "cell_type": "code",
   "execution_count": 10,
   "id": "f5ec21d4",
   "metadata": {},
   "outputs": [
    {
     "data": {
      "text/plain": [
       "0    Aluno 1\n",
       "1    Aluno 2\n",
       "2    Aluno 3\n",
       "3    Aluno 4\n",
       "4    Aluno 5\n",
       "Name: Nome, dtype: object"
      ]
     },
     "execution_count": 10,
     "metadata": {},
     "output_type": "execute_result"
    }
   ],
   "source": [
    "df_agrupado.Nome"
   ]
  },
  {
   "cell_type": "code",
   "execution_count": null,
   "id": "96710149",
   "metadata": {},
   "outputs": [],
   "source": []
  }
 ],
 "metadata": {
  "kernelspec": {
   "display_name": "base",
   "language": "python",
   "name": "python3"
  },
  "language_info": {
   "codemirror_mode": {
    "name": "ipython",
    "version": 3
   },
   "file_extension": ".py",
   "mimetype": "text/x-python",
   "name": "python",
   "nbconvert_exporter": "python",
   "pygments_lexer": "ipython3",
   "version": "3.12.7"
  }
 },
 "nbformat": 4,
 "nbformat_minor": 5
}
